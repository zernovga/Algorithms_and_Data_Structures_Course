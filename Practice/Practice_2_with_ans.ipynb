{
 "cells": [
  {
   "cell_type": "code",
   "execution_count": 2,
   "metadata": {},
   "outputs": [],
   "source": [
    "import random"
   ]
  },
  {
   "cell_type": "markdown",
   "metadata": {},
   "source": [
    "# Возведение в степень по модулю"
   ]
  },
  {
   "cell_type": "markdown",
   "metadata": {},
   "source": [
    "$A^B mod C = ( (A mod C)^B ) mod C$"
   ]
  },
  {
   "cell_type": "code",
   "execution_count": 53,
   "metadata": {},
   "outputs": [
    {
     "data": {
      "text/plain": [
       "621"
      ]
     },
     "execution_count": 53,
     "metadata": {},
     "output_type": "execute_result"
    }
   ],
   "source": [
    "def power_modulus(a, b, c):\n",
    "    return (((a % c) ** b) % c)\n",
    "\n",
    "power_modulus(21, 691, 720)"
   ]
  },
  {
   "cell_type": "markdown",
   "metadata": {},
   "source": [
    "# Алгоритм Эвклида"
   ]
  },
  {
   "cell_type": "markdown",
   "metadata": {},
   "source": [
    "Даны два целых положительных числа m и n. Требуется найти их наибольший общий делитель, т. е. наибольшее целое положительное число, которое нацело делит оба числа m и n.\n",
    "1. [Нахождение остатка.] Разделим m на n, и пусть остаток от деления будет равен r (где 0 ≤ r < n).\n",
    "2. [Сравнение с нулем.] Если r = 0, то выполнение алгоритма прекращается; n — искомое значение.\n",
    "3. [Замещение.] Присвоить m ← n, n ← r и вернуться к шагу E1."
   ]
  },
  {
   "cell_type": "code",
   "execution_count": 9,
   "metadata": {},
   "outputs": [
    {
     "data": {
      "text/plain": [
       "9"
      ]
     },
     "execution_count": 9,
     "metadata": {},
     "output_type": "execute_result"
    }
   ],
   "source": [
    "def euclidus(n, m):\n",
    "    while m % n > 0:\n",
    "        m, n = n, m % n\n",
    "    return n\n",
    "\n",
    "euclidus(27, 9)"
   ]
  },
  {
   "cell_type": "markdown",
   "metadata": {},
   "source": [
    "# Расширенный алгоритм Эвклида"
   ]
  },
  {
   "cell_type": "markdown",
   "metadata": {},
   "source": [
    "$x_1, y_1$ получаем на шаге $(b \\% a, a)$\n",
    "\n",
    "$ x=y_1 - floor(b / a) * x_1 \\\\\n",
    "y = x_1  $"
   ]
  },
  {
   "cell_type": "code",
   "execution_count": 26,
   "metadata": {},
   "outputs": [
    {
     "data": {
      "text/plain": [
       "(5, 2, -1)"
      ]
     },
     "execution_count": 26,
     "metadata": {},
     "output_type": "execute_result"
    }
   ],
   "source": [
    "def extended_euclidus(a, b):\n",
    "    if a == 0:\n",
    "        return b, 0, 1\n",
    "\n",
    "    d, x1, y1 = extended_euclidus(b % a, a)\n",
    "    x = y1 - (b // a) * x1\n",
    "    y = x1\n",
    "    \n",
    "    return d, x, y\n",
    "\n",
    "extended_euclidus(15, 25)"
   ]
  },
  {
   "cell_type": "code",
   "execution_count": 29,
   "metadata": {},
   "outputs": [
    {
     "name": "stdout",
     "output_type": "stream",
     "text": [
      "1 -98 3505\n"
     ]
    },
    {
     "data": {
      "text/plain": [
       "1"
      ]
     },
     "execution_count": 29,
     "metadata": {},
     "output_type": "execute_result"
    }
   ],
   "source": [
    "a = 7618\n",
    "b = 213\n",
    "d, x, y  = extended_euclidus(a, b)\n",
    "print(d, x, y)\n",
    "a * (x + 2 * b) + b * (y - 2 * a)"
   ]
  },
  {
   "cell_type": "markdown",
   "metadata": {},
   "source": [
    "# Проверка числа на простоту"
   ]
  },
  {
   "cell_type": "code",
   "execution_count": 31,
   "metadata": {},
   "outputs": [],
   "source": [
    "def isPrime(n):\n",
    "    if n < 2:\n",
    "        return False\n",
    "    if n == 2:\n",
    "        return True\n",
    "    j = int(n ** 0.5) + 1\n",
    "    for i in range(2, j + 1):\n",
    "        if n % i == 0:\n",
    "            return False\n",
    "    return True"
   ]
  },
  {
   "cell_type": "code",
   "execution_count": 32,
   "metadata": {},
   "outputs": [
    {
     "data": {
      "text/plain": [
       "False"
      ]
     },
     "execution_count": 32,
     "metadata": {},
     "output_type": "execute_result"
    }
   ],
   "source": [
    "isPrime(4)"
   ]
  },
  {
   "cell_type": "markdown",
   "metadata": {},
   "source": [
    "# Решето Эратосфена\n",
    "\n",
    "Решето Эратосфена — алгоритм нахождения всех простых чисел, не превышающих некоторое натуральное число n.\n",
    "1. Выписать подряд все целые числа от двух до n (2, 3, 4, …, n).\n",
    "2. Пусть переменная p изначально равна двум — первому простому числу.\n",
    "3. Зачеркнуть в списке числа от 2p до n, считая шагами по p (это будут числа, кратные p: 2p, 3p, 4p, …).\n",
    "4. Найти первое незачёркнутое число в списке, большее чем p, и присвоить значению переменной p это число.\n",
    "5. Повторять шаги 3 и 4, пока возможно."
   ]
  },
  {
   "cell_type": "code",
   "execution_count": 43,
   "metadata": {},
   "outputs": [
    {
     "name": "stdout",
     "output_type": "stream",
     "text": [
      "[2, 3, 4, 5, 7, 9, 13, 15, 19, 21, 25, 31, 33, 39, 43, 45, 49, 55, 61, 63, 69, 73, 75, 81, 85, 91, 99]\n"
     ]
    }
   ],
   "source": [
    "def eratosthenes(n):\n",
    "    p = 2\n",
    "    nums = list(range(2, n + 1))\n",
    "\n",
    "    while extras := range(p * 2, len(nums), p):\n",
    "        for i in extras:\n",
    "            nums[i] = 0\n",
    "        for num in nums:\n",
    "            if num > p:\n",
    "                p = num\n",
    "                break\n",
    "    return [i for i in nums if i != 0]\n",
    "\n",
    "print(eratosthenes(100))"
   ]
  },
  {
   "cell_type": "code",
   "execution_count": 45,
   "metadata": {},
   "outputs": [
    {
     "name": "stdout",
     "output_type": "stream",
     "text": [
      "[2, 3, 5, 7, 11, 13, 17, 19, 23, 29, 31, 37, 41, 43, 47, 53, 59, 61, 67, 71, 73, 79, 83, 89, 97]\n"
     ]
    }
   ],
   "source": [
    "def eratosthenes(n):\n",
    "    num = list(range(n+1))\n",
    "    num[1] = 0\n",
    "\n",
    "    for p in range(n+1):\n",
    "        if num[p]:\n",
    "            for i in range(2*p, n+1, p):\n",
    "                num[i] = 0\n",
    "    \n",
    "    return [i for i in num if i]\n",
    "\n",
    "print(eratosthenes(100))"
   ]
  },
  {
   "cell_type": "markdown",
   "metadata": {},
   "source": [
    "# Генерация случайных простых чисел\n",
    "\n",
    "1. Строим решето Эратосфена до $k$, где $k$ это некая константа - например $10^3$. Выбираем стартовое простое число $s$ - либо принимаем аргументом, либо из построенного решета. Переходим к шагу 2.\n",
    "2. Имеем простое число $s$ - если $s>N$, то результат алгоритма это $p: p=s$, иначе мы хотим найти простое число $n:n>s$ - переходим к шагу 3.\n",
    "3. Выбираем рандомно чётное число $r : s <= r <= 2 * (2 * s + 1)$ и запишем кандидат на простоту $n=s*r+1$. Переходим к шагу 4.\n",
    "4. Проверяем $n$ на делимость с простыми числами низкого порядка, полученными на шаге 1 - если число делится на одно из них, то оно составное и возвращаемся к выбору нового кандидата $n$, то есть шагу 2. Иначе число может быть простым, поэтому переходим к шагу 5.\n",
    "5. Выбираем рандомно число $a:1<a<n$ и проверяем для нашего кандидата на простоту $n$ исполнимость следующих двух условий $a^{n-1} ≡ 1 (mod n)$ и $НОД(a^r - 1, n) == 1$.\n",
    "    1. Если оба исполняются, то по критерию Поклингтона число $n$ простое - заменяем $s := n$ и переходим к следующей итерации по поиску большего числа, то есть шагу 2.\n",
    "    2. Иначе если не исполняется первое условие - $a^{n-1} ≡ 1 (mod n)$, то по малой теореме Ферма число $n$ не является простым, поэтому переходим к выбору нового кандидата, то есть шагу 3.\n",
    "    3. Иначе если не исполняется вторая часть, то анализ немного сложнее - мы нашли делитель $d:1<d<=n$ для кандидата $n$, поскольку $gcd(a^r-1,n)==d$. Предположим, что $d ≠n$, что подразумевает не примитивный делитель, а значит $n$ не простое - переходим к повторному выбору, то есть шагу 3.\n",
    "    4. Остаётся случай, когда $d==n$, что означает $a^r ≡ 1 (mod n)$, а решений этого выражения существует не больше $r$. Одно из решений это $a==1$, поэтому на интервале $1<a<n$ существует не более $r-1$ решений, следовательно при действительно простом $n$ мы найдём (с вероятностью $1-O(s^{-1})$) такое $a$, которое бы удовлетворяло критерию Поклингтона, поэтому переходим к шагу 5 для повтора выбора a.\n",
    "\n"
   ]
  },
  {
   "cell_type": "code",
   "execution_count": 65,
   "metadata": {},
   "outputs": [
    {
     "data": {
      "text/plain": [
       "1106477"
      ]
     },
     "execution_count": 65,
     "metadata": {},
     "output_type": "execute_result"
    }
   ],
   "source": [
    "# random.seed(42)\n",
    "\n",
    "def random_prime(k, N):\n",
    "    primes = eratosthenes(k)\n",
    "    s = primes[random.randint(0, len(primes)-1)]\n",
    "    # print('s', s)\n",
    "\n",
    "    while s < N:\n",
    "        r = random.randint(s, 2 * (2 * s + 1))\n",
    "        r += r % 2\n",
    "        # print('r', r)\n",
    "\n",
    "        n = s * r + 1\n",
    "        # print('n', n)\n",
    "\n",
    "        for i in primes:\n",
    "            if n % i == 0:\n",
    "                # print('составное')\n",
    "                continue\n",
    "        \n",
    "        stop = 0\n",
    "        while stop < 100:\n",
    "            a = random.randint(2, n - 1)\n",
    "            # print('a', a)\n",
    "\n",
    "            crit1 = power_modulus(a, n - 1, n)\n",
    "            crit2 = euclidus(a ** r - 1, n)\n",
    "            # print('crit1', crit1, 'crit2', crit2)\n",
    "\n",
    "            if crit1 == 1 and crit2 == 1:\n",
    "                s = n\n",
    "                break\n",
    "            if crit1 != 1 or 1 < crit2 < n:\n",
    "                break\n",
    "            if crit1 == 1 and crit2 == n:\n",
    "                stop += 1\n",
    "                continue\n",
    "\n",
    "    return s\n",
    "\n",
    "random_prime(10**3, 10**3)"
   ]
  },
  {
   "cell_type": "code",
   "execution_count": 68,
   "metadata": {},
   "outputs": [
    {
     "ename": "OverflowError",
     "evalue": "Python int too large to convert to C ssize_t",
     "output_type": "error",
     "traceback": [
      "\u001b[1;31m---------------------------------------------------------------------------\u001b[0m",
      "\u001b[1;31mOverflowError\u001b[0m                             Traceback (most recent call last)",
      "\u001b[1;32mc:\\Users\\USER\\Desktop\\Sirius\\git version\\Algorithms_and_Data_Structures_Course\\Practice\\Practice_2.ipynb Cell 21\u001b[0m line \u001b[0;36m1\n\u001b[1;32m----> <a href='vscode-notebook-cell:/c%3A/Users/USER/Desktop/Sirius/git%20version/Algorithms_and_Data_Structures_Course/Practice/Practice_2.ipynb#X51sZmlsZQ%3D%3D?line=0'>1</a>\u001b[0m eratosthenes(\u001b[39m2\u001b[39;49m\u001b[39m*\u001b[39;49m\u001b[39m*\u001b[39;49m\u001b[39m100\u001b[39;49m)\n",
      "\u001b[1;32mc:\\Users\\USER\\Desktop\\Sirius\\git version\\Algorithms_and_Data_Structures_Course\\Practice\\Practice_2.ipynb Cell 21\u001b[0m line \u001b[0;36m2\n\u001b[0;32m      <a href='vscode-notebook-cell:/c%3A/Users/USER/Desktop/Sirius/git%20version/Algorithms_and_Data_Structures_Course/Practice/Practice_2.ipynb#X51sZmlsZQ%3D%3D?line=0'>1</a>\u001b[0m \u001b[39mdef\u001b[39;00m \u001b[39meratosthenes\u001b[39m(n):\n\u001b[1;32m----> <a href='vscode-notebook-cell:/c%3A/Users/USER/Desktop/Sirius/git%20version/Algorithms_and_Data_Structures_Course/Practice/Practice_2.ipynb#X51sZmlsZQ%3D%3D?line=1'>2</a>\u001b[0m     num \u001b[39m=\u001b[39m \u001b[39mlist\u001b[39m(\u001b[39mrange\u001b[39m(n\u001b[39m+\u001b[39m\u001b[39m1\u001b[39m))\n\u001b[0;32m      <a href='vscode-notebook-cell:/c%3A/Users/USER/Desktop/Sirius/git%20version/Algorithms_and_Data_Structures_Course/Practice/Practice_2.ipynb#X51sZmlsZQ%3D%3D?line=2'>3</a>\u001b[0m     num[\u001b[39m1\u001b[39m] \u001b[39m=\u001b[39m \u001b[39m0\u001b[39m\n\u001b[0;32m      <a href='vscode-notebook-cell:/c%3A/Users/USER/Desktop/Sirius/git%20version/Algorithms_and_Data_Structures_Course/Practice/Practice_2.ipynb#X51sZmlsZQ%3D%3D?line=4'>5</a>\u001b[0m     \u001b[39mfor\u001b[39;00m p \u001b[39min\u001b[39;00m \u001b[39mrange\u001b[39m(n\u001b[39m+\u001b[39m\u001b[39m1\u001b[39m):\n",
      "\u001b[1;31mOverflowError\u001b[0m: Python int too large to convert to C ssize_t"
     ]
    }
   ],
   "source": [
    "eratosthenes(2**100)"
   ]
  },
  {
   "cell_type": "markdown",
   "metadata": {},
   "source": [
    "# RSA"
   ]
  },
  {
   "cell_type": "markdown",
   "metadata": {},
   "source": [
    "## Генерация ключей\n",
    "\n",
    "1. Выбираем два случайных простых числа p и q\n",
    "2. Вычисляем их произведение: $ N = p * q $\n",
    "3. Вычисляем функцию Эйлера: $ \\phi(N) = (p-1) * (q-1) $ \n",
    "4. Выбираем число e (обычно простое, но необязательно), которое меньше $\\phi(N)$ и является взаимно простым с $\\phi(N)$ (не имеющих общих делителей друг с другом, кроме 1).\n",
    "5. Ищем число d, обратное числу e по модулю $\\phi(N)$ .Т.е. остаток от деления $(d*e)$ и $\\phi(N)$ должен быть равен 1. Найти его можно через расширенный алгоритм Евклида.\n",
    "\n",
    "e и n – открытый ключ\n",
    "d и n – закрытый ключ\n"
   ]
  },
  {
   "cell_type": "code",
   "execution_count": 71,
   "metadata": {},
   "outputs": [],
   "source": [
    "def generate_keys():\n",
    "    p = random_prime(10**3, 100)\n",
    "    q = random_prime(10**3, 100)\n",
    "\n",
    "    N = p * q\n",
    "    phi = (p - 1) * (q - 1)\n",
    "\n",
    "    e = None\n",
    "    for i in range(phi-1, 0, -1):\n",
    "        if euclidus(i, phi) == 1 and isPrime(i):\n",
    "            e = i\n",
    "            break\n",
    "    \n",
    "    _, d, _ = extended_euclidus(e, phi)\n",
    "    \n",
    "    return (e, N), (d, N)\n",
    "\n",
    "op, cl = generate_keys()"
   ]
  },
  {
   "cell_type": "code",
   "execution_count": 72,
   "metadata": {},
   "outputs": [
    {
     "name": "stdout",
     "output_type": "stream",
     "text": [
      "(2131573, 2153017) (552637, 2153017)\n"
     ]
    }
   ],
   "source": [
    "print(op, cl)"
   ]
  },
  {
   "cell_type": "code",
   "execution_count": 73,
   "metadata": {},
   "outputs": [
    {
     "data": {
      "text/plain": [
       "169854"
      ]
     },
     "execution_count": 73,
     "metadata": {},
     "output_type": "execute_result"
    }
   ],
   "source": [
    "encrypt = power_modulus(72188, op[0], op[1])\n",
    "encrypt"
   ]
  },
  {
   "cell_type": "code",
   "execution_count": 74,
   "metadata": {},
   "outputs": [
    {
     "data": {
      "text/plain": [
       "72188"
      ]
     },
     "execution_count": 74,
     "metadata": {},
     "output_type": "execute_result"
    }
   ],
   "source": [
    "power_modulus(encrypt, cl[0], cl[1])"
   ]
  }
 ],
 "metadata": {
  "kernelspec": {
   "display_name": "Python 3",
   "language": "python",
   "name": "python3"
  },
  "language_info": {
   "codemirror_mode": {
    "name": "ipython",
    "version": 3
   },
   "file_extension": ".py",
   "mimetype": "text/x-python",
   "name": "python",
   "nbconvert_exporter": "python",
   "pygments_lexer": "ipython3",
   "version": "3.11.5"
  },
  "orig_nbformat": 4
 },
 "nbformat": 4,
 "nbformat_minor": 2
}
