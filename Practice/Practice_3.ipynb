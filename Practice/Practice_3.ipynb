{
 "cells": [
  {
   "cell_type": "code",
   "execution_count": 1,
   "metadata": {},
   "outputs": [],
   "source": [
    "array = [4, 8, 2, 9, 3, 1, 0, 7, 6, 5]"
   ]
  },
  {
   "cell_type": "markdown",
   "metadata": {},
   "source": [
    "# 1 Сортировка простыми обменами\n",
    "\n",
    "Реализуйте функцию сортировки простыми обменами. Реализуйте досрочную остановку алгоритма в случае, если обмены больше не нужны."
   ]
  },
  {
   "cell_type": "code",
   "execution_count": 2,
   "metadata": {},
   "outputs": [],
   "source": [
    "def BubbleSort(arr: list) -> list:\n",
    "    ...\n",
    "\n",
    "BubbleSort(array)"
   ]
  },
  {
   "cell_type": "markdown",
   "metadata": {},
   "source": [
    "# 2 Сортировка вставками\n",
    "\n",
    "Реализуйте функцию сортировки вставками.\n",
    "\n",
    "Параметр функции `insert_method` используется для выбора метода вставки очередного элемента и принимает значения: \n",
    "* `element` - поэлементный сдвиг влево\n",
    "* `binary` - используя бинарный поиск"
   ]
  },
  {
   "cell_type": "code",
   "execution_count": 4,
   "metadata": {},
   "outputs": [],
   "source": [
    "def InsertionSort(arr: list, insert_method: str = 'element') -> list:\n",
    "    ...\n",
    "\n",
    "InsertionSort(array)"
   ]
  },
  {
   "cell_type": "code",
   "execution_count": 5,
   "metadata": {},
   "outputs": [],
   "source": [
    "InsertionSort(array, 'binary')"
   ]
  },
  {
   "cell_type": "markdown",
   "metadata": {},
   "source": [
    "# 3 Побитовая сортировка\n",
    "\n",
    "Напишите функцию сортировки массива по количеству единичных бит.\n",
    "\n",
    "Например, дан массив `[7, 6, 15, 8]`\n",
    "\n",
    "* 7 has 3 on bits `(000...0111)`\n",
    "* 6 has 2 on bits `(000...0011)`\n",
    "* 15 has 4 on bits `(000...1111)`\n",
    "* 8 has 1 on bit `(000...1000)`\n",
    "\n",
    "Таким образом отсортированный массив будет иметь следующий вид: `[8, 6, 7, 15]`.\n",
    "\n",
    "В случае, если 2 числа имеют равно количество бит, сравнивать их по истинному значению\n",
    "\n",
    "Например, числа 10 `(...1010)` и 12 `(...1100)`, имеют равно количество единичных бит: 2, но число 10 меньше 12, поэтому стоит раньше в отсортированном списке.\n",
    "\n",
    "**Важно**: сортировка должна производится *inplace* (сортируется тот же массив, а не возвращается новый)"
   ]
  },
  {
   "cell_type": "code",
   "execution_count": null,
   "metadata": {},
   "outputs": [],
   "source": [
    "def sortBybit(arr: list):\n",
    "    ...\n",
    "\n",
    "sortBybit(array)\n",
    "array"
   ]
  },
  {
   "cell_type": "markdown",
   "metadata": {},
   "source": [
    "# 4 Сортировка по ключу\n",
    "\n",
    "Напишите функцию сортировки списка по ключам из другого списка. Гарантированно, что оба списка имеют равный размер и все необходимые значения.\n",
    "\n",
    "```python\n",
    "initialArray = ['x', 'y', 'z'] \n",
    "sortingArray = [1, 2, 0]\n",
    "\n",
    "sort(initialArray, sortingArray) => ['z', 'x', 'y']\n",
    "\n",
    "sort(['z', 'x', 'y'], [0, 2, 1]) => ['z', 'y', 'x']\n",
    "```"
   ]
  },
  {
   "cell_type": "code",
   "execution_count": null,
   "metadata": {},
   "outputs": [],
   "source": [
    "def sortBykey(initialArray: list, sortingArray: list) -> list:\n",
    "    ..."
   ]
  },
  {
   "cell_type": "markdown",
   "metadata": {},
   "source": [
    "# Задача 5\n",
    "\n",
    "Даны 2 списка arr1 и arr2 равной длины. \n",
    "\n",
    "Отсортируйте список arr1 в соответствии с порядком по возрастанию списка arr2; Отсортируйте arr2 в соответствии с порядком по возрастанию списка arr1. Например:\n",
    "\n",
    "```python\n",
    "arr1=[5,4,3,2,1]\n",
    "arr2=[6,5,7,8,9]\n",
    "```\n",
    "Отсортируем **arr1**. Для начала надо узнать порядок по возрастанию **arr2**:\n",
    "\n",
    "```python\n",
    "[5,6,7,8,9]\n",
    "```\n",
    "\n",
    "Можно заметить, что некоторые элементы поменяли свой индекс:\n",
    "\n",
    "Несортированный arr2 | arr2 по возрастанию\n",
    ":---: | :---:\n",
    "[6,5,7,8,9] | [5,6,7,8,9]\n",
    "index0(6) | index1\n",
    "index1(5) | index0\n",
    "index2(7) | index2(без изменений)\n",
    "index3(8) | index3(без изменений)\n",
    "index4(9) | index4(без изменений)\n",
    "\n",
    "Отсортируем **arr1** в соответствии с этими изменениями:\n",
    "\n",
    "Несортированный arr1 | Сортированный arr1\n",
    ":---: | :---:\n",
    "[5,4,3,2,1] | [4,5,3,2,1]\n",
    "index0(5) | index1\n",
    "index1(4) | index0\n",
    "index2(3) | index2(без изменений)\n",
    "index3(2) | index3(без изменений)\n",
    "index4(1) | index4(без изменений)\n",
    "\n",
    "Итого: сортированный `arr1 = [4,5,3,2,1]`\n",
    "\n",
    "Повторим ту же процедуру для arr2:\n",
    "\n",
    "Несортированный arr1 | arr1 по возрастанию\n",
    ":---: | :---:\n",
    "[5,4,3,2,1] | [1,2,3,4,5]\n",
    "index0(5) | index4\n",
    "index1(4) | index3\n",
    "index2(3) | index2(без изменений)\n",
    "index3(2) | index1\n",
    "index4(1) | index0\n",
    "\n",
    "Несортированный arr2 | Сортированный arr2\n",
    ":---: | :---:\n",
    "[6,5,7,8,9] | [9,8,7,5,6]\n",
    "index0(6) | index4\n",
    "index1(5) | index3\n",
    "index2(7) | index2(без изменений)\n",
    "index3(8) | index1\n",
    "index4(9) | index0\n",
    "\n",
    "Итого: сортированный `arr2 = [9,8,7,5,6]`\n",
    "\n",
    "Возвратить отсортированные списки в виде 2D списка: `[sorted arr1, sorted arr2]`\n",
    "\n",
    "**Примеры**\n",
    "\n",
    "Входные данные | Результат\n",
    "--- | ---\n",
    "`sortArrays([5,4,3,2,1],[6,5,7,8,9])` | `[[4,5,3,2,1],[9,8,7,5,6]]`\n",
    "`sortArrays([2,1,3,4,5],[5,6,7,8,9])` | `[[2,1,3,4,5],[6,5,7,8,9]]`\n",
    "`sortArrays([5,6,9,2,6,5],[3,6,7,4,8,1])` | `[[5,5,2,6,9,6],[4,3,1,6,8,7]]`"
   ]
  },
  {
   "cell_type": "code",
   "execution_count": null,
   "metadata": {},
   "outputs": [],
   "source": [
    "def sortArrays(arr1: list, arr2: list) -> list:\n",
    "    ..."
   ]
  }
 ],
 "metadata": {
  "kernelspec": {
   "display_name": "Python 3",
   "language": "python",
   "name": "python3"
  },
  "language_info": {
   "codemirror_mode": {
    "name": "ipython",
    "version": 3
   },
   "file_extension": ".py",
   "mimetype": "text/x-python",
   "name": "python",
   "nbconvert_exporter": "python",
   "pygments_lexer": "ipython3",
   "version": "3.11.4"
  },
  "orig_nbformat": 4
 },
 "nbformat": 4,
 "nbformat_minor": 2
}
