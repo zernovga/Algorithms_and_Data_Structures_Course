{
 "cells": [
  {
   "cell_type": "markdown",
   "metadata": {},
   "source": [
    "# Задача 0\n",
    "\n",
    "Имеется калькулятор, который выполняет три операции:\n",
    "\n",
    "1. Прибавить к числу X единицу.\n",
    "2. Умножить число X на 2.\n",
    "3. Умножить число X на 3.\n",
    "\n",
    "Определите, какое наименьшее число операций необходимо для того, чтобы получить из числа 1 заданное число N.\n",
    "\n",
    "**Примеры**\n",
    "\n",
    "входные данные | выходные данные\n",
    "---|---\n",
    "1 | 0\n",
    "5 | 3\n",
    "32718 | 17"
   ]
  },
  {
   "cell_type": "code",
   "execution_count": 1,
   "metadata": {},
   "outputs": [
    {
     "data": {
      "text/plain": [
       "'Your code here'"
      ]
     },
     "execution_count": 1,
     "metadata": {},
     "output_type": "execute_result"
    }
   ],
   "source": [
    "'''Your code here'''"
   ]
  },
  {
   "cell_type": "markdown",
   "metadata": {},
   "source": [
    "# Задача 1\n",
    "\n",
    "Напишите функцию возврщающую n-ное число Фибоначчи."
   ]
  },
  {
   "cell_type": "markdown",
   "metadata": {},
   "source": [
    "$$\n",
    "F_0=0,~F_1=1,~F_n=F_{n-1}+F_{n-2}\n",
    "$$"
   ]
  },
  {
   "cell_type": "code",
   "execution_count": 2,
   "metadata": {},
   "outputs": [
    {
     "data": {
      "text/plain": [
       "'Your code here'"
      ]
     },
     "execution_count": 2,
     "metadata": {},
     "output_type": "execute_result"
    }
   ],
   "source": [
    "'''Your code here'''"
   ]
  },
  {
   "cell_type": "markdown",
   "metadata": {},
   "source": [
    "# Задача 2\n",
    "\n",
    "Алгоритм вычисления значения функции $F(n)$, где $n$ – натуральное число, задан следующими соотношениями:\n",
    "$$\n",
    "F(n)=\\begin{cases}\n",
    "    n & \\text{если }n≥2025, \\\\\n",
    "    F(n+1)−F(n+2)+7 & \\text{если }n<2025.\n",
    "\\end{cases}\n",
    "$$\n",
    "Чему равно значение выражения $F(15)−F(24)$?"
   ]
  },
  {
   "cell_type": "code",
   "execution_count": 3,
   "metadata": {},
   "outputs": [
    {
     "data": {
      "text/plain": [
       "'Your code here'"
      ]
     },
     "execution_count": 3,
     "metadata": {},
     "output_type": "execute_result"
    }
   ],
   "source": [
    "'''Your code here'''"
   ]
  },
  {
   "cell_type": "markdown",
   "metadata": {},
   "source": [
    "# Задача 3\n",
    "\n",
    "Имеется калькулятор, который выполняет три операции:\n",
    "\n",
    "1. Прибавить к числу X единицу.\n",
    "2. Умножить число X на 2.\n",
    "3. Умножить число X на 3.\n",
    "\n",
    "Определите кратчайшую последовательность операций, необходимую для получения из числа 1 заданное число N.\n",
    "\n",
    "Входные данные\n",
    "Программа получает на вход одно число N, не превосходящее $10^6$.\n",
    "\n",
    "Выходные данные\n",
    "Выведите строку, состоящую из цифр \"1\", \"2\" или \"3\", обозначающих одну из трех указанных операций, которая получает из числа 1 число N за минимальное число операций. Если возможных минимальных решений несколько, выведите любое из них.\n",
    "\n",
    "**Примеры**\n",
    "\n",
    "входные данные | выходные данные\n",
    "---|---\n",
    "1 | \n",
    "5 | 121\n",
    "562340 | 3333312222122213312"
   ]
  },
  {
   "cell_type": "code",
   "execution_count": 4,
   "metadata": {},
   "outputs": [
    {
     "data": {
      "text/plain": [
       "'Your code here'"
      ]
     },
     "execution_count": 4,
     "metadata": {},
     "output_type": "execute_result"
    }
   ],
   "source": [
    "'''Your code here'''"
   ]
  },
  {
   "cell_type": "markdown",
   "metadata": {},
   "source": [
    "# Задача 4\n",
    "\n",
    "Робот стоит в левом нижнем углу прямоугольного поля, в каждой клетке которого записано целое положительное число. За один ход робот может переместиться на одну клетку вправо или на одну клетку вверх.\n",
    "\n",
    "Расход энергии на запуск робота равен числу, записанному в стартовой клетке. В дальнейшем расход энергии на шаг из одной клетки в другую равен абсолютной величине разности чисел, записанных в этих клетках.\n",
    "Определите минимальный и максимальный расход энергии при переходе робота в правую верхнюю клетку поля. В ответе запишите два числа: сначала минимальный расход энергии, затем – максимальный.\n",
    "Исходные данные записаны в файле 3.txt. "
   ]
  },
  {
   "cell_type": "code",
   "execution_count": 5,
   "metadata": {},
   "outputs": [
    {
     "data": {
      "text/plain": [
       "'Your code here'"
      ]
     },
     "execution_count": 5,
     "metadata": {},
     "output_type": "execute_result"
    }
   ],
   "source": [
    "'''Your code here'''"
   ]
  },
  {
   "cell_type": "markdown",
   "metadata": {},
   "source": [
    "# Задача 5\n",
    "\n",
    "Даны две последовательности, требуется найти длину их наибольшей общей подпоследовательности."
   ]
  },
  {
   "cell_type": "code",
   "execution_count": 6,
   "metadata": {},
   "outputs": [
    {
     "data": {
      "text/plain": [
       "'Your code here'"
      ]
     },
     "execution_count": 6,
     "metadata": {},
     "output_type": "execute_result"
    }
   ],
   "source": [
    "'''Your code here'''"
   ]
  },
  {
   "cell_type": "markdown",
   "metadata": {},
   "source": [
    "# Задача 6. Расстояние по Левенштейну\n",
    "\n",
    "Дана текстовая строка. С ней можно выполнять следующие операции:\n",
    "\n",
    "1. Заменить один символ строки на другой символ.\n",
    "\n",
    "2. Удалить один произвольный символ.\n",
    "\n",
    "3. Вставить произвольный символ в произвольное место строки.\n",
    "\n",
    "Например, при помощи первой операции из строки \"СОК\" можно получить строку \"СУК\", при помощи второй операции - строку \"ОК\", при помощи третьей операции - строку \"СТОК.\n",
    "\n",
    "Минимальное количество таких операций, при помощи которых можно из одной строки получить другую, называется стоимостью редактирования или расстоянием Левенштейна.\n",
    "\n",
    "Определите расстояние Левенштейна для двух данных строк.\n",
    "\n",
    "**Пример**\n",
    "входные данные | выходные данные\n",
    "---|---\n",
    "ABCDEFGH ACDEXGIH | 3\n",
    " "
   ]
  },
  {
   "cell_type": "code",
   "execution_count": 7,
   "metadata": {},
   "outputs": [
    {
     "data": {
      "text/plain": [
       "'Your code here'"
      ]
     },
     "execution_count": 7,
     "metadata": {},
     "output_type": "execute_result"
    }
   ],
   "source": [
    "'''Your code here'''"
   ]
  },
  {
   "cell_type": "markdown",
   "metadata": {},
   "source": [
    "# Задача 7\n",
    "\n",
    "Дана последовательность, требуется найти длину её наибольшей возрастающей подпоследовательности. Подпоследовательностью последовательности называется некоторый набор её элементов, не обязательно стоящих подряд.\n",
    "\n",
    "**Пример**\n",
    "входные данные | выходные данные\n",
    "---|---\n",
    "3 29 5 5 28 6 | 3"
   ]
  },
  {
   "cell_type": "code",
   "execution_count": 8,
   "metadata": {},
   "outputs": [
    {
     "data": {
      "text/plain": [
       "'Your code here'"
      ]
     },
     "execution_count": 8,
     "metadata": {},
     "output_type": "execute_result"
    }
   ],
   "source": [
    "'''Your code here'''"
   ]
  },
  {
   "cell_type": "markdown",
   "metadata": {},
   "source": [
    "# Задача 8\n",
    "\n",
    "Первая строка входа содержит целые числа $1≤W≤10$ и $1≤n≤300$ — вместимость рюкзака и число золотых слитков. Следующая строка содержит $n$ целых чисел $0≤w_1,…,w_n≤10^5$, задающих веса слитков. \n",
    "\n",
    "Найдите максимальный вес золота, который можно унести в рюкзаке.\n",
    "\n",
    "**Пример**\n",
    "входные данные | выходные данные\n",
    "---|---\n",
    "10 3\n",
    "1 4 8 | 9"
   ]
  },
  {
   "cell_type": "code",
   "execution_count": 9,
   "metadata": {},
   "outputs": [
    {
     "data": {
      "text/plain": [
       "'Your code here'"
      ]
     },
     "execution_count": 9,
     "metadata": {},
     "output_type": "execute_result"
    }
   ],
   "source": [
    "'''Your code here'''"
   ]
  },
  {
   "cell_type": "code",
   "execution_count": null,
   "metadata": {},
   "outputs": [],
   "source": []
  }
 ],
 "metadata": {
  "kernelspec": {
   "display_name": "Python 3",
   "language": "python",
   "name": "python3"
  },
  "language_info": {
   "codemirror_mode": {
    "name": "ipython",
    "version": 3
   },
   "file_extension": ".py",
   "mimetype": "text/x-python",
   "name": "python",
   "nbconvert_exporter": "python",
   "pygments_lexer": "ipython3",
   "version": "3.11.4"
  },
  "orig_nbformat": 4
 },
 "nbformat": 4,
 "nbformat_minor": 2
}
