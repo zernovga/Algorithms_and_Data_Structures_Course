{
 "cells": [
  {
   "cell_type": "markdown",
   "metadata": {},
   "source": [
    "# Острова"
   ]
  },
  {
   "cell_type": "markdown",
   "metadata": {},
   "source": [
    "[Ссылка](https://practice.geeksforgeeks.org/problems/find-the-number-of-islands/1)\n",
    "\n",
    "Дана сетка размером $n*m$ ($n$ - число строк и $m$ - число столбцов) состоящая из 0 (вода) и 1 (земля). Найдите количество островов.\n",
    "\n",
    "**Примечание:** остров окружен водой или границами сетки и формируется объединением смежных участков земли горизонтально, вертикально или диагонально.\n",
    "\n",
    "**Пример 1**:\n",
    "\n",
    "**Ввод**:\n",
    "```python\n",
    "grid = [[0,1], [1,0],[1,1],[1,0]]\n",
    "```\n",
    "\n",
    "**Вывод**:\n",
    "```python\n",
    "1\n",
    "```\n",
    "\n",
    "**Пояснение**:\n",
    "<table>\n",
    "    <thead>\n",
    "        <tr>\n",
    "            <th colspan=\"2\" style=\"text-align: center\">Сетка</th>\n",
    "        </tr>\n",
    "    </thead>\n",
    "    <tbody>\n",
    "        <tr>\n",
    "            <td>0</td>\n",
    "            <td>1</td>\n",
    "        </tr>\n",
    "        <tr>\n",
    "            <td>1</td>\n",
    "            <td>0</td>\n",
    "        </tr>\n",
    "        <tr>\n",
    "            <td>1</td>\n",
    "            <td>1</td>\n",
    "        </tr>\n",
    "        <tr>\n",
    "            <td>1</td>\n",
    "            <td>0</td>\n",
    "        </tr>\n",
    "    </tbody>\n",
    "</table>\n",
    "\n",
    "Все участки земли соединены.\n",
    "\n",
    "**Пример 2**:\n",
    "\n",
    "**Ввод**:\n",
    "```python\n",
    "grid = [[0,1,1,1,0,0,0],[0,0,1,1,0,1,0]]\n",
    "```\n",
    "\n",
    "**Вывод**:\n",
    "```python\n",
    "2\n",
    "```\n",
    "\n",
    "**Пояснение**:\n",
    "<table>\n",
    "    <thead>\n",
    "        <tr>\n",
    "            <th colspan=\"7\" style=\"text-align: center\">Сетка</th>\n",
    "        </tr>\n",
    "    </thead>\n",
    "    <tbody>\n",
    "        <tr>\n",
    "            <td>0</td>\n",
    "            <td style=\"color:#0000FF;border-color: #000000;\">1</td>\n",
    "            <td style=\"color:#0000FF;border-color: #000000;\">1</td>\n",
    "            <td style=\"color:#0000FF;border-color: #000000;\">1</td>\n",
    "            <td>0</td>\n",
    "            <td>0</td>\n",
    "            <td>0</td>\n",
    "        </tr>\n",
    "        <tr>\n",
    "            <td>0</td>\n",
    "            <td>0</td>\n",
    "            <td style=\"color:#0000FF;border-color: #000000;\">1</td>\n",
    "            <td style=\"color:#0000FF;border-color: #000000;\">1</td>\n",
    "            <td>0</td>\n",
    "            <td style=\"color:#fe0000;border-color: #000000;\">1</td>\n",
    "            <td>0</td>\n",
    "        </tr>\n",
    "    </tbody>\n",
    "</table>\n",
    "\n",
    "Всего 2 острова: Один окрашен в синий, второй в красный.\n",
    "\n",
    "**Ожидаемая временная сложность**: $O(n*m)$\n",
    "\n",
    "**Ожидаемый расход памяти**: $O(n*m)$\n",
    "\n",
    "**Ограничения**:\n",
    "$1 ≤ n, m ≤ 500$"
   ]
  },
  {
   "cell_type": "code",
   "execution_count": 1,
   "metadata": {},
   "outputs": [
    {
     "data": {
      "text/plain": [
       "'Your code here'"
      ]
     },
     "execution_count": 1,
     "metadata": {},
     "output_type": "execute_result"
    }
   ],
   "source": [
    "'''Your code here'''"
   ]
  },
  {
   "cell_type": "markdown",
   "metadata": {},
   "source": [
    "# Кратчайший путь"
   ]
  },
  {
   "cell_type": "markdown",
   "metadata": {},
   "source": [
    "[Ссылка](https://practice.geeksforgeeks.org/problems/shortest-path-from-1-to-n0156/1)\n",
    "\n",
    "Рассмотрим направленный граф, в котором вершины пронумерованы от $1$ до $n$. Ребро из вершины $i$ в вершину $j$ существует если $j = i + 1$ или $j = 3 * i$. Необходимо найти кратчайший из вершины $1$ до вершины $n$.\n",
    "\n",
    "**Пример 1**:\n",
    "\n",
    "**Ввод**:\n",
    "```python\n",
    "N = 9\n",
    "```\n",
    "\n",
    "**Вывод**:\n",
    "```python\n",
    "2\n",
    "```\n",
    "\n",
    "**Пояснение**:\n",
    "$9 \\rightarrow 3 \\rightarrow 1$, таким образом число шагов равно $2$.\n",
    "\n",
    "**Пример 2**:\n",
    "\n",
    "**Ввод**:\n",
    "```python\n",
    "N = 4\n",
    "```\n",
    "\n",
    "**Вывод**:\n",
    "```python\n",
    "2\n",
    "```\n",
    "\n",
    "**Пояснение**:\n",
    "$4 \\rightarrow 3 \\rightarrow 1$, число шагов равно 2.\n",
    "\n",
    "**Временная сложность**: $O(logN)$\n",
    "\n",
    "**Пространственная сложность**: $O(1)$\n",
    "\n",
    "\n",
    "**Ограничения**:\n",
    "$1 ≤ N ≤ 10^5$"
   ]
  },
  {
   "cell_type": "code",
   "execution_count": 2,
   "metadata": {},
   "outputs": [
    {
     "data": {
      "text/plain": [
       "'Your code here'"
      ]
     },
     "execution_count": 2,
     "metadata": {},
     "output_type": "execute_result"
    }
   ],
   "source": [
    "'''Your code here'''"
   ]
  },
  {
   "cell_type": "markdown",
   "metadata": {},
   "source": [
    "# Шахматный конь"
   ]
  },
  {
   "attachments": {
    "image.png": {
     "image/png": "[encoded data removed]"
    }
   },
   "cell_type": "markdown",
   "metadata": {},
   "source": [
    "[Ссылка](https://practice.geeksforgeeks.org/problems/steps-by-knight5927/1)\n",
    "\n",
    "Дана квадратная шахматная доска, начальное положение коня и положение цели. Найти минимальное количество шагов, за которое конь достигнет цели.\n",
    "\n",
    "**Примечание**: Координаты начальной и целевой позиции даны с индексом начинающимся от 1.\n",
    "\n",
    "**Пример 1**:\n",
    "\n",
    "**Ввод**:\n",
    "```python\n",
    "N = 6\n",
    "knightPos = (4, 5)\n",
    "targetPos = (1, 1)\n",
    "```\n",
    "**Вывод**:\n",
    "```python\n",
    "2\n",
    "```\n",
    "\n",
    "**Пояснение**:\n",
    "\n",
    "![image.png](attachment:image.png)\n",
    "\n",
    "Коню потребуется 3 шага чтобы добраться из $(4, 5)$ до $(1, 1)$:\n",
    "\n",
    "$(4, 5) \\rightarrow (5, 3) \\rightarrow (3, 2) \\rightarrow (1, 1)$.\n",
    "\n",
    "**Временная сложность**: $O(N^2)$\n",
    "\n",
    "**Пространственная сложность**: $O(N^2)$\n",
    "\n",
    "\n",
    "**Ограничения**:\n",
    "\n",
    "$$\n",
    "1 \\le N \\le 1000 \\\\\n",
    "1 \\le Knight\\_pos(X, Y), Targer\\_pos(X, Y) \\le N\n",
    "$$"
   ]
  },
  {
   "cell_type": "code",
   "execution_count": 3,
   "metadata": {},
   "outputs": [
    {
     "data": {
      "text/plain": [
       "'Your code here'"
      ]
     },
     "execution_count": 3,
     "metadata": {},
     "output_type": "execute_result"
    }
   ],
   "source": [
    "'''Your code here'''"
   ]
  },
  {
   "cell_type": "markdown",
   "metadata": {},
   "source": [
    "# Узел с наибольшей массой"
   ]
  },
  {
   "cell_type": "markdown",
   "metadata": {},
   "source": [
    "Дан лабиринт из $N$ клеток. Каждая клетка может иметь множество входов, но не более одного выхода (входы/выходы - однонаправленные двери типа клапанов).\n",
    "\n",
    "Дан массив `Edge` из `N` целых чисел, где `Edge[i]` содержит индекс клетки, в которую можно попасть из клетки `i` за 1 шаг. `Edge[i]` равен `-1` если i-ая клетка не содержит выхода. \n",
    "\n",
    "Необходимо найти клетку с наибольшим весом (вес клетки равен сумме индексов всех клеток ведущих в данную клетку). Если таких клеток несколько, вывести клетку с наибольшим индексом.\n",
    "\n",
    "**Примечание**: клетку проиндексированы целыми числами от 0 до $N-1$. Если нет клетки ведущей в i-ую клетку, то вес i-ой клетки равен 0.\n",
    "\n",
    "**Пример 1**:\n",
    "\n",
    "**Ввод**:\n",
    "```python\n",
    "N = 4\n",
    "Edge = [2, 0, -1, 2]\n",
    "```\n",
    "**Вывод**:\n",
    "```python\n",
    "2\n",
    "```\n",
    "**Пояснение**:\n",
    " \n",
    "$1 \\rightarrow 0 \\rightarrow 2 \\leftarrow 3$ \n",
    "\n",
    "* Вес 0-ой клетки $= 1$\n",
    "* Вес 1-ой клетки $= 0$ (так как нет клеток ведущих в первую)\n",
    "* Вес 2-ой клетки $= 0+3 = 3$\n",
    "* Вес 3-ой клетки $= 0$\n",
    "\n",
    "Так как есть только одна клетка с максимальным весом, то ответ: 2.\n",
    "\n",
    "**Пример 1**:\n",
    "\n",
    "**Ввод**:\n",
    "```python\n",
    "N = 1\n",
    "Edge = [-1]\n",
    "```\n",
    "**Вывод**:\n",
    "```python\n",
    "0\n",
    "```\n",
    "**Пояснение**:\n",
    "\n",
    "Вес 0-ой клетки равен 0. Так как существует всего одна клетка, то клетка 0 имеет макисмальный вес.\n",
    "\n",
    "**Временная сложность**: $O(N)$\n",
    "\n",
    "**Пространственная сложность**: $O(N)$\n",
    "\n",
    "**Ограничения**:\n",
    "$$\n",
    "1 ≤ N ≤ 105 \\\\\n",
    "-1 < Edge[i] < N\\\\\n",
    "Edge[i] \\ne i\n",
    "$$"
   ]
  },
  {
   "cell_type": "code",
   "execution_count": 4,
   "metadata": {},
   "outputs": [
    {
     "data": {
      "text/plain": [
       "'Your code here'"
      ]
     },
     "execution_count": 4,
     "metadata": {},
     "output_type": "execute_result"
    }
   ],
   "source": [
    "'''Your code here'''"
   ]
  },
  {
   "cell_type": "markdown",
   "metadata": {},
   "source": [
    "# Биба и Боба"
   ]
  },
  {
   "cell_type": "markdown",
   "metadata": {},
   "source": [
    "[Ссылка](https://practice.geeksforgeeks.org/problems/santa-banta2814/1)\n",
    "\n",
    "Биба все еще не женат. Он обратился в брачное агентство и попросил их ускорить процесс. Агентство проверило список подходящих девушек размера $N$ и передало их Бибе. Бибо ответственно подходит к выбору спутницы жизни и решил найти девушку с максимальным количеством знакомств, чтобы собрать о ней больше информации. Соответственно, для достижения своей цели он пытается выяснить максимальное число девушек (из списка), которые знают друг друга.\n",
    "\n",
    "Чтобы завершить выбор ему необходимо найти $K$-ое простое число, где $K$ - наибольшая группа знакомых друг с другом девушек. Учитывая, что Биба плохо знает математику, он обращается к Бобе за помощью. А теперь и вам дается такая почетная честь решить эту задачу. \n",
    "\n",
    "В случае, если кол-во связей равно нолю, выведите \"-1\". В данном случае связи между девушками представлены в виде двумерной матрицы $g$ размером $M*2$, где $M$ - число связей.\n",
    "\n",
    "**Примечание**:\n",
    "1. Допустим девушка \"a\" знает девушку \"b\" и девушка \"b\" знает девушку \"c\", тогда девушка \"a\" так же знает девушку \"c\". Транзитивность работает.\n",
    "2. 1 считать составным числом.\n",
    "\n",
    "**Пример 1**:\n",
    "\n",
    "**Ввод** : \n",
    "```python\n",
    "N = 10\n",
    "M = 6\n",
    "g = [[1,2],[2,3],[3,4],[4,5],[6,7],[9,10]]\n",
    "```\n",
    "**Вывод** : \n",
    "```python\n",
    "11\n",
    "```\n",
    "**Пояснение**:\n",
    "В данном случае граф содержит 4 группы.\n",
    "* В первой группе: $(1 \\rightarrow 2 \\rightarrow 3 \\rightarrow 4 \\rightarrow 5)$\n",
    "* Во второй: $(6 \\rightarrow 7)$\n",
    "* В третьей: $(8)$\n",
    "* В четвертой: $(10 \\rightarrow 9)$\n",
    "\n",
    "В этих четырех группах максимальное значение равно 5. Тогда, $K = 5$, а пятое простое число - 11. *Ответ: 11*.\n",
    "\n",
    "**Пример 2**:\n",
    "\n",
    "**Ввод** : \n",
    "```python\n",
    "N = 2\n",
    "M = 1\n",
    "g = [[1, 2]]\n",
    "```\n",
    "**Вывод** : \n",
    "```python\n",
    "3\n",
    "```\n",
    "**Пояснение**:\n",
    "\n",
    "В данном примере только одна группа из 2 девушек и, следовательно, $K = 2$. Второе простое число - 3\n",
    "\n",
    "**Временная сложность**: $O(N + M)$\n",
    "\n",
    "**Пространственная сложность**: $O(N + M)$\n",
    "\n",
    "**Ограничения**:\n",
    "$$\n",
    "1 ≤ n ≤ 10^5 \\\\\n",
    "0 ≤ m ≤ 10^5 \\\\\n",
    "1 ≤ u,~v ≤ n \\\\\n",
    "n+m \\le 10^5.\n",
    "$$"
   ]
  },
  {
   "cell_type": "code",
   "execution_count": 5,
   "metadata": {},
   "outputs": [
    {
     "data": {
      "text/plain": [
       "'Your code here'"
      ]
     },
     "execution_count": 5,
     "metadata": {},
     "output_type": "execute_result"
    }
   ],
   "source": [
    "'''Your code here'''"
   ]
  }
 ],
 "metadata": {
  "kernelspec": {
   "display_name": "Python 3",
   "language": "python",
   "name": "python3"
  },
  "language_info": {
   "codemirror_mode": {
    "name": "ipython",
    "version": 3
   },
   "file_extension": ".py",
   "mimetype": "text/x-python",
   "name": "python",
   "nbconvert_exporter": "python",
   "pygments_lexer": "ipython3",
   "version": "3.11.4"
  }
 },
 "nbformat": 4,
 "nbformat_minor": 2
}
