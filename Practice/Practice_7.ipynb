{
 "cells": [
  {
   "cell_type": "markdown",
   "metadata": {
    "nbgrader": {
     "grade": false,
     "grade_id": "cell-fa21fb5a752bb55d",
     "locked": true,
     "schema_version": 3,
     "solution": false,
     "task": false
    }
   },
   "source": [
    "# Задача 1 "
   ]
  },
  {
   "cell_type": "markdown",
   "metadata": {
    "nbgrader": {
     "grade": false,
     "grade_id": "cell-53c4b7a2b926d989",
     "locked": true,
     "schema_version": 3,
     "solution": false,
     "task": false
    }
   },
   "source": [
    "Профессор Флойд и профессор Дейкстра ненавидят друг друга. После переезда университета во вновь отстроенный университетский городок они потребовали себе кабинеты в зданиях, максимально удалённых друг от друга. Вам поручено найти расстояние между двумя такими зданиями.\n",
    "\n",
    "Иными словами, требуется найти два здания, кратчайший путь между которыми наибольший среди всех пар зданий, и вывести длину этого пути. Так как профессорам иногда все же нужно встречаться, путь между выбранными зданиями должен существовать."
   ]
  },
  {
   "cell_type": "markdown",
   "metadata": {
    "jp-MarkdownHeadingCollapsed": true,
    "nbgrader": {
     "grade": false,
     "grade_id": "cell-dc289751ea08901a",
     "locked": true,
     "schema_version": 3,
     "solution": false,
     "task": false
    }
   },
   "source": [
    "## Входные данные"
   ]
  },
  {
   "cell_type": "markdown",
   "metadata": {
    "nbgrader": {
     "grade": false,
     "grade_id": "cell-458163ce24136075",
     "locked": true,
     "schema_version": 3,
     "solution": false,
     "task": false
    }
   },
   "source": [
    "Два числа $N$ и $M$ - количество зданий и количество дорог, соединяющих здания $(1≤N≤100,0≤M≤[[N⋅(N−1)]\\over2])$. Далее в списке $edges$ в $M$ строках расположены описания дорог: 3 целых числа $s_i$, $e_i$, $l_i$ - здания, в которых начинается и заканчивается дорога и длина дороги соответственно ($1≤s_i,e_i≤N,0≤l_i≤100$, дороги двунаправленные)."
   ]
  },
  {
   "cell_type": "markdown",
   "metadata": {
    "jp-MarkdownHeadingCollapsed": true,
    "nbgrader": {
     "grade": false,
     "grade_id": "cell-00d29243b5cc1420",
     "locked": true,
     "schema_version": 3,
     "solution": false,
     "task": false
    }
   },
   "source": [
    "## Выходные данные"
   ]
  },
  {
   "cell_type": "markdown",
   "metadata": {
    "nbgrader": {
     "grade": false,
     "grade_id": "cell-102138be21c69c6f",
     "locked": true,
     "schema_version": 3,
     "solution": false,
     "task": false
    }
   },
   "source": [
    "Необходимо вернуть одно число - искомое расстояние.\n"
   ]
  },
  {
   "cell_type": "markdown",
   "metadata": {
    "jp-MarkdownHeadingCollapsed": true,
    "nbgrader": {
     "grade": false,
     "grade_id": "cell-938343fcae3daf05",
     "locked": true,
     "schema_version": 3,
     "solution": false,
     "task": false
    }
   },
   "source": [
    "## Примеры"
   ]
  },
  {
   "cell_type": "markdown",
   "metadata": {
    "nbgrader": {
     "grade": false,
     "grade_id": "cell-48698f72d4cef14c",
     "locked": true,
     "schema_version": 3,
     "solution": false,
     "task": false
    }
   },
   "source": [
    "**Входные данные**\n",
    "\n",
    "```python\n",
    "N = 3\n",
    "M = 2\n",
    "edges = [[1, 2, 1],\n",
    "         [2, 3, 2]]\n",
    "```\n",
    "**Выходные данные**\n",
    "```python\n",
    "3\n",
    "```\n",
    "\n",
    "**Входные данные**\n",
    "```python\n",
    "N = 3\n",
    "M = 0\n",
    "edges = []\n",
    "```\n",
    "**Выходные данные**\n",
    "```python\n",
    "0\n",
    "```"
   ]
  },
  {
   "cell_type": "markdown",
   "metadata": {
    "nbgrader": {
     "grade": false,
     "grade_id": "cell-aa15cfe60a81e376",
     "locked": true,
     "schema_version": 3,
     "solution": false,
     "task": false
    }
   },
   "source": [
    "## Решение"
   ]
  },
  {
   "cell_type": "code",
   "execution_count": 9,
   "metadata": {
    "nbgrader": {
     "grade": false,
     "grade_id": "task1_ans",
     "locked": false,
     "schema_version": 3,
     "solution": true,
     "task": false
    }
   },
   "outputs": [
    {
     "data": {
      "text/plain": [
       "(3, 0)"
      ]
     },
     "execution_count": 9,
     "metadata": {},
     "output_type": "execute_result"
    }
   ],
   "source": [
    "def t1(n, m, edges):\n",
    "    dist = [[float('inf')] * n for _ in range(n)]\n",
    "    for i in range(n):\n",
    "        dist[i][i] = 0\n",
    "    for s, e, l in edges:\n",
    "        dist[s-1][e-1] = l\n",
    "        dist[e-1][s-1] = l\n",
    "\n",
    "    ans = 0\n",
    "    for k in range(n):\n",
    "        for i in range(n):\n",
    "            for j in range(n):\n",
    "                dist[i][j] = min(dist[i][j], dist[i][k] + dist[k][j])\n",
    "                if dist[i][j] < float('inf'):\n",
    "                    ans = max(ans, dist[i][j])\n",
    "    \n",
    "    return ans\n",
    "\n",
    "\n",
    "(t1(3, 2, [[1, 2, 1],\n",
    "           [2, 3, 2]]), \n",
    " t1(3, 0, []))"
   ]
  },
  {
   "cell_type": "markdown",
   "metadata": {},
   "source": [
    "# Задача 2"
   ]
  },
  {
   "cell_type": "markdown",
   "metadata": {},
   "source": [
    "Профессор Флойд живёт в очень опасном районе города. Ежедневно бандиты грабят на улицах прохожих. Читая криминальную хронику, профессор Флойд вычислил вероятность быть ограбленным при проходе по каждой улице города.\n",
    "\n",
    "Теперь он хочет найти наиболее безопасный путь от дома до университета, в котором он преподаёт. Иными словами, он хочет найти путь от дома до университета, для которого вероятность быть ограбленным минимальна."
   ]
  },
  {
   "cell_type": "markdown",
   "metadata": {},
   "source": [
    "## Входные данные"
   ]
  },
  {
   "cell_type": "markdown",
   "metadata": {},
   "source": [
    "Два числа $N$ и $M$ - количество зданий и количество улиц, соединяющих здания $(1≤N≤100,0≤M≤[[N⋅(N−1)]\\over2])$. Два числа $S$ и $E$ - номер дома, в котором живёт профессор и номер дома, в котором находится университет соответственно. Далее в массиве $edges$ в $M$ строках расположены описания дорог: $3$ целых числа $s_i, e_i, p_i$ - здания, в которых начинается и заканчивается дорога и вероятность в процентах быть ограбленным, пройдя по дороге соответственно ($1≤s_i,e_i≤N,0≤p_i≤100$, дороги двунаправленные). Гарантируется, что существует хотя бы один путь от дома профессора до университета."
   ]
  },
  {
   "cell_type": "markdown",
   "metadata": {},
   "source": [
    "## Выходные данные"
   ]
  },
  {
   "cell_type": "markdown",
   "metadata": {},
   "source": [
    "Необходимо вывести одно число - минимальную возможную вероятность быть ограбленным. Выведите ответ с максимально возможной точностью."
   ]
  },
  {
   "cell_type": "markdown",
   "metadata": {},
   "source": [
    "## Примеры"
   ]
  },
  {
   "cell_type": "markdown",
   "metadata": {},
   "source": [
    "**Входные данные**\n",
    "```python\n",
    "N = 3\n",
    "M = 3\n",
    "S = 1\n",
    "E = 3\n",
    "edges = [[1, 2, 20],\n",
    "         [1, 3, 50],\n",
    "         [2, 3, 20]]\n",
    "```\n",
    "**Выходные данные**\n",
    "```python\n",
    "0.36\n",
    "```"
   ]
  },
  {
   "cell_type": "markdown",
   "metadata": {},
   "source": [
    "```mermaid\n",
    "graph LR\n",
    "    1 --20--> 2\n",
    "    1 --50--> 3\n",
    "    2 --20--> 3\n",
    "```"
   ]
  },
  {
   "cell_type": "code",
   "execution_count": 13,
   "metadata": {},
   "outputs": [
    {
     "data": {
      "text/plain": [
       "0.36"
      ]
     },
     "execution_count": 13,
     "metadata": {},
     "output_type": "execute_result"
    }
   ],
   "source": [
    "def t2(n, m, s, e, edges):\n",
    "    adjList = {i:[] for i in range(1, n+1)}\n",
    "    for i, j, p in edges:\n",
    "        adjList[i].append((j, p/100))\n",
    "        adjList[j].append((i, p/100))\n",
    "    \n",
    "    dist = [float('inf')] * n\n",
    "    dist[s-1] = 0\n",
    "    used = [0] * n\n",
    "\n",
    "    while True:\n",
    "        min_ind = None\n",
    "        min_d = float('inf')\n",
    "        for i in range(n):\n",
    "            if dist[i] < min_d and not used[i]:\n",
    "                min_ind = i\n",
    "                min_d = dist[i]\n",
    "        if min_ind is None:\n",
    "            break\n",
    "\n",
    "        used[min_ind] = 1\n",
    "\n",
    "        for u, p in adjList[min_ind+1]:\n",
    "            if not used[u-1] and dist[u-1] > min_d + p - min_d * p:\n",
    "                dist[u-1] = min_d + p - min_d * p\n",
    "\n",
    "    return dist[e-1]\n",
    "\n",
    "\n",
    "t2(3, 3, 1, 3, [[1, 2, 20],\n",
    "                [1, 3, 50],\n",
    "                [2, 3, 20]])"
   ]
  },
  {
   "cell_type": "markdown",
   "metadata": {
    "nbgrader": {
     "grade": false,
     "grade_id": "cell-b0408752191af0b3",
     "locked": true,
     "schema_version": 3,
     "solution": false,
     "task": false
    }
   },
   "source": [
    "# Задача 3 "
   ]
  },
  {
   "cell_type": "markdown",
   "metadata": {
    "nbgrader": {
     "grade": false,
     "grade_id": "cell-6810b4bdfece9650",
     "locked": true,
     "schema_version": 3,
     "solution": false,
     "task": false
    }
   },
   "source": [
    "Невзвешенный ориентированный граф задан своей матрицей смежности. Требуется построить его транзитивное замыкание, то есть матрицу, в которой в $i$-й строке и $j$-м столбце находится $1$, если от вершины $i$ можно добраться до вершины $j$, и $0$ - иначе."
   ]
  },
  {
   "cell_type": "markdown",
   "metadata": {
    "nbgrader": {
     "grade": false,
     "grade_id": "cell-f2186790735ba86f",
     "locked": true,
     "schema_version": 3,
     "solution": false,
     "task": false
    }
   },
   "source": [
    "## Входные данные"
   ]
  },
  {
   "cell_type": "markdown",
   "metadata": {
    "nbgrader": {
     "grade": false,
     "grade_id": "cell-af28e9e0be933583",
     "locked": true,
     "schema_version": 3,
     "solution": false,
     "task": false
    }
   },
   "source": [
    "Число $N$ ($1≤N≤100$) - число вершин в графе. Далее задана матрица смежности графа: в $N$ строках даны по $N$ чисел $0$ или $1$ в каждой. $i$-е число в $i$-й строке всегда равно $1$."
   ]
  },
  {
   "cell_type": "markdown",
   "metadata": {
    "nbgrader": {
     "grade": false,
     "grade_id": "cell-167a8099b3f153ec",
     "locked": true,
     "schema_version": 3,
     "solution": false,
     "task": false
    }
   },
   "source": [
    "## Выходные данные"
   ]
  },
  {
   "cell_type": "markdown",
   "metadata": {
    "nbgrader": {
     "grade": false,
     "grade_id": "cell-b4e5e483a2028903",
     "locked": true,
     "schema_version": 3,
     "solution": false,
     "task": false
    }
   },
   "source": [
    "Необходимо вывести матрицу транзитивного замыкания графа в формате, аналогичным формату матрицы смежности."
   ]
  },
  {
   "cell_type": "markdown",
   "metadata": {
    "nbgrader": {
     "grade": false,
     "grade_id": "cell-0ff773266cbecea8",
     "locked": true,
     "schema_version": 3,
     "solution": false,
     "task": false
    }
   },
   "source": [
    "## Примеры"
   ]
  },
  {
   "cell_type": "markdown",
   "metadata": {
    "nbgrader": {
     "grade": false,
     "grade_id": "cell-573fcf82326c042f",
     "locked": true,
     "schema_version": 3,
     "solution": false,
     "task": false
    }
   },
   "source": [
    "**Входные данные**\n",
    "```python\n",
    "N = 4\n",
    "adjM =[[1, 1, 0, 0],\n",
    "       [0, 1, 1, 0],\n",
    "       [1, 0, 1, 0],\n",
    "       [0, 0, 1, 1]]\n",
    "```\n",
    "**Выходные данные**\n",
    "```python\n",
    "[[1, 1, 1, 0], \n",
    " [1, 1, 1, 0], \n",
    " [1, 1, 1, 0], \n",
    " [1, 1, 1, 1]]\n",
    "```"
   ]
  },
  {
   "cell_type": "code",
   "execution_count": 14,
   "metadata": {
    "nbgrader": {
     "grade": false,
     "grade_id": "cell-6018ee52b7505cf3",
     "locked": false,
     "schema_version": 3,
     "solution": true,
     "task": false
    }
   },
   "outputs": [
    {
     "name": "stdout",
     "output_type": "stream",
     "text": [
      "[0, 1, 2, inf]\n",
      "[2, 0, 1, inf]\n",
      "[1, 2, 0, inf]\n",
      "[2, 3, 1, 0]\n"
     ]
    },
    {
     "data": {
      "text/plain": [
       "[[1, 1, 1, 0], [1, 1, 1, 0], [1, 1, 1, 0], [1, 1, 1, 1]]"
      ]
     },
     "execution_count": 14,
     "metadata": {},
     "output_type": "execute_result"
    }
   ],
   "source": []
  },
  {
   "cell_type": "markdown",
   "metadata": {},
   "source": [
    "N = 3, M = 3\n",
    "A[] = [[O, O, O], \n",
    "       [W, B, B], \n",
    "       [W, O, O]]\n",
    "Output: [[2, 1, 1], \n",
    "         [-1, 0, 0],  \n",
    "         [-1, 1, 1]]"
   ]
  },
  {
   "cell_type": "code",
   "execution_count": 22,
   "metadata": {},
   "outputs": [
    {
     "name": "stdout",
     "output_type": "stream",
     "text": [
      "[-1, -1]\n",
      "[-1, -1]\n"
     ]
    }
   ],
   "source": []
  },
  {
   "cell_type": "code",
   "execution_count": 25,
   "metadata": {},
   "outputs": [
    {
     "data": {
      "text/plain": [
       "1"
      ]
     },
     "execution_count": 25,
     "metadata": {},
     "output_type": "execute_result"
    }
   ],
   "source": []
  }
 ],
 "metadata": {
  "kernelspec": {
   "display_name": "Python 3 (ipykernel)",
   "language": "python",
   "name": "python3"
  },
  "language_info": {
   "codemirror_mode": {
    "name": "ipython",
    "version": 3
   },
   "file_extension": ".py",
   "mimetype": "text/x-python",
   "name": "python",
   "nbconvert_exporter": "python",
   "pygments_lexer": "ipython3",
   "version": "3.11.4"
  }
 },
 "nbformat": 4,
 "nbformat_minor": 4
}
